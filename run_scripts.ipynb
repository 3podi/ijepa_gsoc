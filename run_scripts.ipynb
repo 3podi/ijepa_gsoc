{
 "cells": [
  {
   "cell_type": "code",
   "execution_count": 1,
   "metadata": {
    "tags": []
   },
   "outputs": [],
   "source": [
    "import os\n",
    "import subprocess"
   ]
  },
  {
   "cell_type": "code",
   "execution_count": 14,
   "metadata": {
    "tags": []
   },
   "outputs": [
    {
     "name": "stdout",
     "output_type": "stream",
     "text": [
      "14\n"
     ]
    }
   ],
   "source": [
    "scripts_list = [f for f in os.listdir('.') if f.startswith('scratch_sc_')]\n",
    "scripts_list = [script for script in scripts_list if not script.startswith('.')]\n",
    "\n",
    "num_scripts = len(scripts_list)\n",
    "print(num_scripts)"
   ]
  },
  {
   "cell_type": "code",
   "execution_count": 15,
   "metadata": {
    "tags": []
   },
   "outputs": [
    {
     "data": {
      "text/plain": [
       "['scratch_sc_12.sh',\n",
       " 'scratch_sc_8.sh',\n",
       " 'scratch_sc_9.sh',\n",
       " 'scratch_sc_11.sh',\n",
       " 'scratch_sc_3.sh',\n",
       " 'scratch_sc_1.sh',\n",
       " 'scratch_sc_2.sh',\n",
       " 'scratch_sc_7.sh',\n",
       " 'scratch_sc_4.sh',\n",
       " 'scratch_sc_10.sh',\n",
       " 'scratch_sc_6.sh',\n",
       " 'scratch_sc_13.sh',\n",
       " 'scratch_sc_14.sh',\n",
       " 'scratch_sc_5.sh']"
      ]
     },
     "execution_count": 15,
     "metadata": {},
     "output_type": "execute_result"
    }
   ],
   "source": [
    "scripts_list"
   ]
  },
  {
   "cell_type": "code",
   "execution_count": 16,
   "metadata": {
    "tags": []
   },
   "outputs": [
    {
     "name": "stdout",
     "output_type": "stream",
     "text": [
      "Submitted scratch_sc_1.sh: Submitted batch job 30375187\n",
      "\n",
      "Submitted scratch_sc_2.sh: Submitted batch job 30375188\n",
      "\n",
      "Submitted scratch_sc_3.sh: Submitted batch job 30375189\n",
      "\n",
      "Submitted scratch_sc_4.sh: Submitted batch job 30375190\n",
      "\n",
      "Submitted scratch_sc_5.sh: Submitted batch job 30375192\n",
      "\n",
      "Submitted scratch_sc_6.sh: Submitted batch job 30375196\n",
      "\n",
      "Submitted scratch_sc_7.sh: Submitted batch job 30375197\n",
      "\n",
      "Submitted scratch_sc_8.sh: Submitted batch job 30375198\n",
      "\n",
      "Submitted scratch_sc_9.sh: Submitted batch job 30375199\n",
      "\n",
      "Submitted scratch_sc_10.sh: Submitted batch job 30375200\n",
      "\n",
      "Submitted scratch_sc_11.sh: Submitted batch job 30375201\n",
      "\n",
      "Submitted scratch_sc_12.sh: Submitted batch job 30375202\n",
      "\n",
      "Submitted scratch_sc_13.sh: Submitted batch job 30375203\n",
      "\n",
      "Submitted scratch_sc_14.sh: Submitted batch job 30375204\n",
      "\n"
     ]
    }
   ],
   "source": [
    "# Loop through the script numbers and submit them using sbatch\n",
    "for i in range(1, num_scripts + 1):\n",
    "    script_name = f\"scratch_sc_{i}.sh\"\n",
    "    \n",
    "    try:\n",
    "        # Run the sbatch command to submit the script\n",
    "        result = subprocess.run([\"sbatch\", script_name], check=True, capture_output=True, text=True)\n",
    "        \n",
    "        # Print the output of the sbatch command\n",
    "        print(f\"Submitted {script_name}: {result.stdout}\")\n",
    "    \n",
    "    except subprocess.CalledProcessError as e:\n",
    "        # Print the error if sbatch fails\n",
    "        print(f\"Failed to submit {script_name}: {e.stderr}\")"
   ]
  },
  {
   "cell_type": "code",
   "execution_count": 5,
   "metadata": {},
   "outputs": [
    {
     "name": "stdout",
     "output_type": "stream",
     "text": [
      "/global/common/software/nersc/pe/conda-envs/24.1.0/python-3.11/nersc-python/bin/python\n"
     ]
    }
   ],
   "source": [
    "!which python"
   ]
  },
  {
   "cell_type": "code",
   "execution_count": 6,
   "metadata": {
    "tags": []
   },
   "outputs": [
    {
     "data": {
      "text/plain": [
       "'/opt/nersc/pymon'"
      ]
     },
     "execution_count": 6,
     "metadata": {},
     "output_type": "execute_result"
    }
   ],
   "source": [
    "%env PYTHONPATH"
   ]
  },
  {
   "cell_type": "code",
   "execution_count": null,
   "metadata": {},
   "outputs": [],
   "source": []
  }
 ],
 "metadata": {
  "colab": {
   "authorship_tag": "ABX9TyMFYg02YL5xQ1DaaDAL9qQ0",
   "collapsed_sections": [
    "Y5qO5f3rPFR6",
    "ukfUuPfMkZLU"
   ],
   "mount_file_id": "1rGDF1qBK7EZjMrgkDuKGXzyZI4vmZyc6",
   "provenance": []
  },
  "kernelspec": {
   "display_name": "NERSC Python",
   "language": "python",
   "name": "python3"
  },
  "language_info": {
   "codemirror_mode": {
    "name": "ipython",
    "version": 3
   },
   "file_extension": ".py",
   "mimetype": "text/x-python",
   "name": "python",
   "nbconvert_exporter": "python",
   "pygments_lexer": "ipython3",
   "version": "3.11.7"
  }
 },
 "nbformat": 4,
 "nbformat_minor": 4
}
